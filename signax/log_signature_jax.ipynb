{
 "cells": [
  {
   "cell_type": "code",
   "execution_count": 1,
   "metadata": {},
   "outputs": [],
   "source": [
    "from functools import partial\n",
    "from typing import List\n",
    "\n",
    "import jax\n",
    "import jax.numpy as jnp\n",
    "import signatory\n",
    "import torch"
   ]
  },
  {
   "cell_type": "code",
   "execution_count": 87,
   "metadata": {},
   "outputs": [],
   "source": [
    "@partial(jax.jit, static_argnums=2)\n",
    "def mult_inner(A: List[jnp.ndarray], B: List[jnp.ndarray], depth_index: int):\n",
    "    \"\"\"\n",
    "    Let `depth_index` = n\n",
    "\n",
    "    this function returns\n",
    "        $sum_{i=1}^n A_i x B_{n - i}$\n",
    "\n",
    "\n",
    "    Note this is hard to convert to `jax.lax.fori_loop`.\n",
    "    I don't know if it's possible. Several attempts but\n",
    "    `TracerIntergerConversionError` is encountered because\n",
    "    getting index of a list (it's okay to get index of ndarray\n",
    "    but not for lists)\n",
    "    \"\"\"\n",
    "\n",
    "    return sum(\n",
    "        [\n",
    "            A[i][..., None] * B[depth_index - i - 1][None, ...]\n",
    "            for i in range(depth_index)\n",
    "        ]\n",
    "    )"
   ]
  },
  {
   "cell_type": "code",
   "execution_count": 88,
   "metadata": {},
   "outputs": [],
   "source": [
    "@jax.jit\n",
    "def mult(A: List[jnp.ndarray], B: List[jnp.ndarray]):\n",
    "\n",
    "    depth = len(A)\n",
    "    C = [a + b for a, b in zip(A, B)]\n",
    "    for i in range(depth):\n",
    "        C[i] += mult_inner(A, B, depth_index=i)\n",
    "\n",
    "    return C"
   ]
  },
  {
   "cell_type": "code",
   "execution_count": 89,
   "metadata": {},
   "outputs": [],
   "source": [
    "dim = 100\n",
    "\n",
    "input1 = [jnp.ones((dim,)), jnp.ones((dim, dim)), jnp.ones((dim, dim, dim))]"
   ]
  },
  {
   "cell_type": "code",
   "execution_count": 68,
   "metadata": {},
   "outputs": [
    {
     "name": "stdout",
     "output_type": "stream",
     "text": [
      "316 µs ± 22 µs per loop (mean ± std. dev. of 7 runs, 1000 loops each)\n"
     ]
    }
   ],
   "source": [
    "%%timeit\n",
    "output = mult_inner(input1, input1, depth_index=2)\n",
    "output.block_until_ready()"
   ]
  },
  {
   "cell_type": "code",
   "execution_count": 95,
   "metadata": {},
   "outputs": [
    {
     "name": "stdout",
     "output_type": "stream",
     "text": [
      "261 µs ± 39 µs per loop (mean ± std. dev. of 7 runs, 1000 loops each)\n"
     ]
    }
   ],
   "source": [
    "%%timeit\n",
    "output = mult(input1, input1)\n",
    "[o.block_until_ready() for o in output]"
   ]
  },
  {
   "cell_type": "code",
   "execution_count": 96,
   "metadata": {},
   "outputs": [],
   "source": [
    "def func(x):\n",
    "    result = mult(x, x)\n",
    "    return sum(map(jnp.sum, result))"
   ]
  },
  {
   "cell_type": "code",
   "execution_count": 101,
   "metadata": {},
   "outputs": [
    {
     "name": "stdout",
     "output_type": "stream",
     "text": [
      "7.61 ms ± 799 µs per loop (mean ± std. dev. of 7 runs, 100 loops each)\n"
     ]
    }
   ],
   "source": [
    "%%timeit\n",
    "value, grad = jax.value_and_grad(func)(input1)\n",
    "value.block_until_ready()\n",
    "[g.block_until_ready() for g in grad]"
   ]
  },
  {
   "cell_type": "code",
   "execution_count": 99,
   "metadata": {},
   "outputs": [],
   "source": [
    "x = torch.ones((1, dim + dim * dim + dim * dim * dim)).requires_grad_(True)"
   ]
  },
  {
   "cell_type": "code",
   "execution_count": 102,
   "metadata": {},
   "outputs": [
    {
     "name": "stdout",
     "output_type": "stream",
     "text": [
      "5.53 ms ± 1 ms per loop (mean ± std. dev. of 7 runs, 100 loops each)\n"
     ]
    }
   ],
   "source": [
    "%%timeit\n",
    "loss = signatory.signature_combine(x, x, input_channels=dim, depth=len(input1))\n",
    "loss.sum().backward()"
   ]
  },
  {
   "cell_type": "code",
   "execution_count": 103,
   "metadata": {},
   "outputs": [
    {
     "data": {
      "text/plain": [
       "tensor(4030200., grad_fn=<SumBackward0>)"
      ]
     },
     "execution_count": 103,
     "metadata": {},
     "output_type": "execute_result"
    }
   ],
   "source": [
    "loss.sum()"
   ]
  },
  {
   "cell_type": "code",
   "execution_count": 105,
   "metadata": {},
   "outputs": [
    {
     "data": {
      "text/plain": [
       "DeviceArray(5.0403e+08, dtype=float32)"
      ]
     },
     "execution_count": 105,
     "metadata": {},
     "output_type": "execute_result"
    }
   ],
   "source": [
    "value"
   ]
  },
  {
   "cell_type": "code",
   "execution_count": 90,
   "metadata": {},
   "outputs": [
    {
     "data": {
      "text/plain": [
       "[DeviceArray([2., 2., 2., 2., 2., 2., 2., 2., 2., 2., 2., 2., 2., 2., 2.,\n",
       "              2., 2., 2., 2., 2., 2., 2., 2., 2., 2., 2., 2., 2., 2., 2.,\n",
       "              2., 2., 2., 2., 2., 2., 2., 2., 2., 2., 2., 2., 2., 2., 2.,\n",
       "              2., 2., 2., 2., 2., 2., 2., 2., 2., 2., 2., 2., 2., 2., 2.,\n",
       "              2., 2., 2., 2., 2., 2., 2., 2., 2., 2., 2., 2., 2., 2., 2.,\n",
       "              2., 2., 2., 2., 2., 2., 2., 2., 2., 2., 2., 2., 2., 2., 2.,\n",
       "              2., 2., 2., 2., 2., 2., 2., 2., 2., 2.], dtype=float32),\n",
       " DeviceArray([[3., 3., 3., ..., 3., 3., 3.],\n",
       "              [3., 3., 3., ..., 3., 3., 3.],\n",
       "              [3., 3., 3., ..., 3., 3., 3.],\n",
       "              ...,\n",
       "              [3., 3., 3., ..., 3., 3., 3.],\n",
       "              [3., 3., 3., ..., 3., 3., 3.],\n",
       "              [3., 3., 3., ..., 3., 3., 3.]], dtype=float32),\n",
       " DeviceArray([[[4., 4., 4., ..., 4., 4., 4.],\n",
       "               [4., 4., 4., ..., 4., 4., 4.],\n",
       "               [4., 4., 4., ..., 4., 4., 4.],\n",
       "               ...,\n",
       "               [4., 4., 4., ..., 4., 4., 4.],\n",
       "               [4., 4., 4., ..., 4., 4., 4.],\n",
       "               [4., 4., 4., ..., 4., 4., 4.]],\n",
       " \n",
       "              [[4., 4., 4., ..., 4., 4., 4.],\n",
       "               [4., 4., 4., ..., 4., 4., 4.],\n",
       "               [4., 4., 4., ..., 4., 4., 4.],\n",
       "               ...,\n",
       "               [4., 4., 4., ..., 4., 4., 4.],\n",
       "               [4., 4., 4., ..., 4., 4., 4.],\n",
       "               [4., 4., 4., ..., 4., 4., 4.]],\n",
       " \n",
       "              [[4., 4., 4., ..., 4., 4., 4.],\n",
       "               [4., 4., 4., ..., 4., 4., 4.],\n",
       "               [4., 4., 4., ..., 4., 4., 4.],\n",
       "               ...,\n",
       "               [4., 4., 4., ..., 4., 4., 4.],\n",
       "               [4., 4., 4., ..., 4., 4., 4.],\n",
       "               [4., 4., 4., ..., 4., 4., 4.]],\n",
       " \n",
       "              ...,\n",
       " \n",
       "              [[4., 4., 4., ..., 4., 4., 4.],\n",
       "               [4., 4., 4., ..., 4., 4., 4.],\n",
       "               [4., 4., 4., ..., 4., 4., 4.],\n",
       "               ...,\n",
       "               [4., 4., 4., ..., 4., 4., 4.],\n",
       "               [4., 4., 4., ..., 4., 4., 4.],\n",
       "               [4., 4., 4., ..., 4., 4., 4.]],\n",
       " \n",
       "              [[4., 4., 4., ..., 4., 4., 4.],\n",
       "               [4., 4., 4., ..., 4., 4., 4.],\n",
       "               [4., 4., 4., ..., 4., 4., 4.],\n",
       "               ...,\n",
       "               [4., 4., 4., ..., 4., 4., 4.],\n",
       "               [4., 4., 4., ..., 4., 4., 4.],\n",
       "               [4., 4., 4., ..., 4., 4., 4.]],\n",
       " \n",
       "              [[4., 4., 4., ..., 4., 4., 4.],\n",
       "               [4., 4., 4., ..., 4., 4., 4.],\n",
       "               [4., 4., 4., ..., 4., 4., 4.],\n",
       "               ...,\n",
       "               [4., 4., 4., ..., 4., 4., 4.],\n",
       "               [4., 4., 4., ..., 4., 4., 4.],\n",
       "               [4., 4., 4., ..., 4., 4., 4.]]], dtype=float32)]"
      ]
     },
     "execution_count": 90,
     "metadata": {},
     "output_type": "execute_result"
    }
   ],
   "source": [
    "output = mult(input1, input1)\n",
    "output"
   ]
  },
  {
   "cell_type": "code",
   "execution_count": 94,
   "metadata": {},
   "outputs": [
    {
     "ename": "IndexError",
     "evalue": "list index out of range",
     "output_type": "error",
     "traceback": [
      "\u001b[0;31m---------------------------------------------------------------------------\u001b[0m",
      "\u001b[0;31mIndexError\u001b[0m                                Traceback (most recent call last)",
      "\u001b[0;32m/tmp/ipykernel_11121/1319286529.py\u001b[0m in \u001b[0;36m<module>\u001b[0;34m\u001b[0m\n\u001b[0;32m----> 1\u001b[0;31m \u001b[0moutput\u001b[0m\u001b[0;34m[\u001b[0m\u001b[0;36m3\u001b[0m\u001b[0;34m]\u001b[0m\u001b[0;34m.\u001b[0m\u001b[0mshape\u001b[0m\u001b[0;34m\u001b[0m\u001b[0;34m\u001b[0m\u001b[0m\n\u001b[0m",
      "\u001b[0;31mIndexError\u001b[0m: list index out of range"
     ]
    }
   ],
   "source": [
    "output[3].shape"
   ]
  },
  {
   "cell_type": "code",
   "execution_count": 107,
   "metadata": {},
   "outputs": [
    {
     "data": {
      "text/plain": [
       "tensor(4030200., grad_fn=<SumBackward0>)"
      ]
     },
     "execution_count": 107,
     "metadata": {},
     "output_type": "execute_result"
    }
   ],
   "source": [
    "signatory.signature_combine(x, x, input_channels=dim, depth=len(input1)).sum()"
   ]
  },
  {
   "cell_type": "code",
   "execution_count": 110,
   "metadata": {},
   "outputs": [
    {
     "data": {
      "text/plain": [
       "DeviceArray(4030200., dtype=float32)"
      ]
     },
     "execution_count": 110,
     "metadata": {},
     "output_type": "execute_result"
    }
   ],
   "source": [
    "value = func(input1)\n",
    "value"
   ]
  },
  {
   "cell_type": "code",
   "execution_count": null,
   "metadata": {},
   "outputs": [],
   "source": []
  }
 ],
 "metadata": {
  "kernelspec": {
   "display_name": "Python 3.9.7 ('base')",
   "language": "python",
   "name": "python3"
  },
  "language_info": {
   "codemirror_mode": {
    "name": "ipython",
    "version": 3
   },
   "file_extension": ".py",
   "mimetype": "text/x-python",
   "name": "python",
   "nbconvert_exporter": "python",
   "pygments_lexer": "ipython3",
   "version": "3.9.7"
  },
  "orig_nbformat": 4,
  "vscode": {
   "interpreter": {
    "hash": "f7d1fba74dfd24f4e28e69f7ae18d3d17d4ecc25efd86b65572743c77fabf4a5"
   }
  }
 },
 "nbformat": 4,
 "nbformat_minor": 2
}
