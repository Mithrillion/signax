{
 "cells": [
  {
   "cell_type": "code",
   "execution_count": 1,
   "metadata": {},
   "outputs": [],
   "source": [
    "import timeit  # noqa: F401\n",
    "from functools import partial\n",
    "from typing import List\n",
    "\n",
    "import jax\n",
    "import jax.numpy as jnp\n",
    "import numpy as np\n",
    "import signatory\n",
    "import torch\n",
    "\n",
    "\n",
    "# jax.config.update('jax_platform_name', 'cpu')\n",
    "\n",
    "\n",
    "@partial(jax.jit, static_argnames=\"depth\")\n",
    "def restricted_exp(input: jnp.ndarray, depth: int):\n",
    "    \"\"\"Restricted exponentiate\n",
    "\n",
    "    As `depth` is fixed so we can make it as a static argument.\n",
    "    This allows us to `jit` this function\n",
    "    Args:\n",
    "        input: shape (n, )\n",
    "        depth: the depth of signature\n",
    "    Return:\n",
    "        A list of `jnp.ndarray` contains tensors\n",
    "    \"\"\"\n",
    "    ret = [input]\n",
    "    last = input\n",
    "    for i in range(2, depth + 1):\n",
    "        last = jnp.expand_dims(ret[-1], axis=-1) * input[None, :] / i\n",
    "        ret += [last]\n",
    "    return ret\n",
    "\n",
    "\n",
    "@jax.jit\n",
    "def mult_fused_restricted_exp(z: jnp.ndarray, A: List[jnp.ndarray]):\n",
    "    \"\"\"\n",
    "    Multiply-fused-exponentiate\n",
    "\n",
    "    Args:\n",
    "        z: shape (n,)\n",
    "        A: a list of `jnp.array` [(n, ), (n x n), (n x n x n), ...]\n",
    "    Return:\n",
    "        A list of which elements have the same shape with `A`\n",
    "    \"\"\"\n",
    "\n",
    "    depth = len(A)\n",
    "\n",
    "    ret = []\n",
    "    for depth_index in range(depth):\n",
    "        last = 1.0\n",
    "        for i in range(depth_index + 1):\n",
    "            current = addcmul(A[i], last, z=z / (depth_index + 1 - i))\n",
    "            last = current\n",
    "        ret.append(last)\n",
    "\n",
    "    return ret\n",
    "\n",
    "\n",
    "def addcmul(A, prev, z):\n",
    "    return A + jnp.expand_dims(prev, axis=-1) * z[None, :]"
   ]
  },
  {
   "cell_type": "code",
   "execution_count": 2,
   "metadata": {},
   "outputs": [],
   "source": [
    "@partial(jax.jit, static_argnames=\"depth\")\n",
    "def compute_signature(path, depth):\n",
    "\n",
    "    path_increments = jnp.diff(path, axis=0)\n",
    "    exp_term = restricted_exp(path_increments[0], depth=depth)\n",
    "\n",
    "    def _body(i, val):\n",
    "        ret = mult_fused_restricted_exp(path_increments[i], val)\n",
    "        ret = [x.squeeze() for x in ret]\n",
    "        return ret\n",
    "\n",
    "    exp_term = jax.lax.fori_loop(\n",
    "        lower=1,\n",
    "        upper=path_increments.shape[0],\n",
    "        body_fun=_body,\n",
    "        init_val=exp_term,\n",
    "    )\n",
    "\n",
    "    return exp_term"
   ]
  },
  {
   "cell_type": "code",
   "execution_count": 3,
   "metadata": {},
   "outputs": [],
   "source": [
    "def func(x):\n",
    "    def _fn(x):\n",
    "        sig = compute_signature(x, depth)\n",
    "        return sum(map(jnp.sum, sig))\n",
    "\n",
    "    def _fn_batch(batch_x):\n",
    "        return jnp.sum(jax.vmap(_fn)(batch_x))\n",
    "\n",
    "    value, grad = jax.value_and_grad(_fn_batch)(x)\n",
    "    return value, grad"
   ]
  },
  {
   "cell_type": "code",
   "execution_count": 4,
   "metadata": {},
   "outputs": [],
   "source": [
    "np.random.seed(0)\n",
    "\n",
    "n_batch = 100\n",
    "length = 100\n",
    "dim = 10\n",
    "x = np.random.rand(n_batch, n_batch, dim)\n",
    "\n",
    "depth = 3"
   ]
  },
  {
   "cell_type": "code",
   "execution_count": 5,
   "metadata": {},
   "outputs": [
    {
     "name": "stdout",
     "output_type": "stream",
     "text": [
      "14.5 ms ± 663 µs per loop (mean ± std. dev. of 7 runs, 1 loop each)\n"
     ]
    }
   ],
   "source": [
    "%%timeit\n",
    "value, grad = func(x)\n",
    "value.block_until_ready()\n",
    "grad.block_until_ready()"
   ]
  },
  {
   "cell_type": "code",
   "execution_count": 6,
   "metadata": {},
   "outputs": [],
   "source": [
    "torch_x = torch.as_tensor(x).requires_grad_(True)"
   ]
  },
  {
   "cell_type": "code",
   "execution_count": 7,
   "metadata": {},
   "outputs": [],
   "source": [
    "def torch_fun(x):\n",
    "    sig = signatory.signature(x, depth)\n",
    "    loss = torch.sum(sig)\n",
    "    loss.backward()\n",
    "    return loss"
   ]
  },
  {
   "cell_type": "code",
   "execution_count": 8,
   "metadata": {},
   "outputs": [
    {
     "name": "stdout",
     "output_type": "stream",
     "text": [
      "28.3 ms ± 3.73 ms per loop (mean ± std. dev. of 7 runs, 10 loops each)\n"
     ]
    }
   ],
   "source": [
    "%%timeit\n",
    "loss = torch_fun(torch_x)"
   ]
  }
 ],
 "metadata": {
  "kernelspec": {
   "display_name": "Python 3.9.7 ('base')",
   "language": "python",
   "name": "python3"
  },
  "language_info": {
   "codemirror_mode": {
    "name": "ipython",
    "version": 3
   },
   "file_extension": ".py",
   "mimetype": "text/x-python",
   "name": "python",
   "nbconvert_exporter": "python",
   "pygments_lexer": "ipython3",
   "version": "3.9.7"
  },
  "orig_nbformat": 4,
  "vscode": {
   "interpreter": {
    "hash": "f7d1fba74dfd24f4e28e69f7ae18d3d17d4ecc25efd86b65572743c77fabf4a5"
   }
  }
 },
 "nbformat": 4,
 "nbformat_minor": 2
}
