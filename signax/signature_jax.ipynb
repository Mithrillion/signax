{
 "cells": [
  {
   "cell_type": "code",
   "execution_count": 2,
   "metadata": {},
   "outputs": [],
   "source": [
    "import timeit  # noqa: F401\n",
    "from functools import partial\n",
    "from typing import List\n",
    "\n",
    "import jax\n",
    "import jax.numpy as jnp\n",
    "import numpy as np\n",
    "import signatory\n",
    "import torch\n",
    "\n",
    "\n",
    "@partial(jax.jit, static_argnames=\"depth\")\n",
    "def restricted_exp(input: jnp.ndarray, depth: int):\n",
    "    \"\"\"Restricted exponentiate\n",
    "\n",
    "    As `depth` is fixed so we can make it as a static argument.\n",
    "    This allows us to `jit` this function\n",
    "    Args:\n",
    "        input: shape (n, )\n",
    "        depth: the depth of signature\n",
    "    Return:\n",
    "        A list of `jnp.ndarray` contains tensors\n",
    "    \"\"\"\n",
    "    ret = [input]\n",
    "    last = input\n",
    "    for i in range(2, depth + 1):\n",
    "        last = jnp.expand_dims(ret[-1], axis=-1) * input[None, :] / i\n",
    "        ret += [last]\n",
    "    return ret\n",
    "\n",
    "\n",
    "@jax.jit\n",
    "def mult_fused_restricted_exp(z: jnp.ndarray, A: List[jnp.ndarray]):\n",
    "    \"\"\"\n",
    "    Multiply-fused-exponentiate\n",
    "\n",
    "    Args:\n",
    "        z: shape (n,)\n",
    "        A: a list of `jnp.array` [(n, ), (n x n), (n x n x n), ...]\n",
    "    Return:\n",
    "        A list of which elements have the same shape with `A`\n",
    "    \"\"\"\n",
    "\n",
    "    depth = len(A)\n",
    "\n",
    "    ret = []\n",
    "    for depth_index in range(depth):\n",
    "        last = 1.0\n",
    "        for i in range(depth_index + 1):\n",
    "            current = addcmul(A[i], last, z=z / (depth_index + 1 - i))\n",
    "            last = current\n",
    "        ret.append(last)\n",
    "\n",
    "    return ret\n",
    "\n",
    "\n",
    "# def mult_inner(tensor_at_depth: jnp.ndarray):\n",
    "#     pass\n",
    "\n",
    "\n",
    "def addcmul(A, prev, z):\n",
    "    return A + jnp.expand_dims(prev, axis=-1) * z[None, :]"
   ]
  },
  {
   "cell_type": "code",
   "execution_count": 7,
   "metadata": {},
   "outputs": [],
   "source": [
    "@partial(jax.jit, static_argnames=\"depth\")\n",
    "def compute_signature(x, depth):\n",
    "    diff_x = jnp.diff(x, axis=0)\n",
    "    exp_term = restricted_exp(diff_x[0], depth=depth)\n",
    "    fused = mult_fused_restricted_exp(diff_x[1], exp_term)\n",
    "    return fused"
   ]
  },
  {
   "cell_type": "code",
   "execution_count": 3,
   "metadata": {},
   "outputs": [],
   "source": [
    "np.random.seed(0)\n",
    "x = np.array([[0.0, 0.0], [1, 2], [2, 4]])\n",
    "\n",
    "depth = 3"
   ]
  },
  {
   "cell_type": "code",
   "execution_count": 6,
   "metadata": {},
   "outputs": [],
   "source": [
    "jnp_x = jnp.array(x)\n",
    "torch_x = torch.as_tensor(x)[None, :]"
   ]
  },
  {
   "cell_type": "code",
   "execution_count": 9,
   "metadata": {},
   "outputs": [
    {
     "name": "stdout",
     "output_type": "stream",
     "text": [
      "57.6 µs ± 558 ns per loop (mean ± std. dev. of 7 runs, 10000 loops each)\n"
     ]
    }
   ],
   "source": [
    "%%timeit\n",
    "fused = compute_signature(jnp_x, depth)\n",
    "[f.block_until_ready() for f in fused]"
   ]
  },
  {
   "cell_type": "code",
   "execution_count": 10,
   "metadata": {},
   "outputs": [
    {
     "name": "stdout",
     "output_type": "stream",
     "text": [
      "65.3 µs ± 731 ns per loop (mean ± std. dev. of 7 runs, 10000 loops each)\n"
     ]
    }
   ],
   "source": [
    "%%timeit\n",
    "sig = signatory.signature(torch_x, depth=depth)"
   ]
  },
  {
   "cell_type": "code",
   "execution_count": null,
   "metadata": {},
   "outputs": [],
   "source": []
  }
 ],
 "metadata": {
  "kernelspec": {
   "display_name": "Python 3.9.7 ('base')",
   "language": "python",
   "name": "python3"
  },
  "language_info": {
   "codemirror_mode": {
    "name": "ipython",
    "version": 3
   },
   "file_extension": ".py",
   "mimetype": "text/x-python",
   "name": "python",
   "nbconvert_exporter": "python",
   "pygments_lexer": "ipython3",
   "version": "3.9.7"
  },
  "orig_nbformat": 4,
  "vscode": {
   "interpreter": {
    "hash": "f7d1fba74dfd24f4e28e69f7ae18d3d17d4ecc25efd86b65572743c77fabf4a5"
   }
  }
 },
 "nbformat": 4,
 "nbformat_minor": 2
}
