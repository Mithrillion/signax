{
 "cells": [
  {
   "cell_type": "code",
   "execution_count": 1,
   "metadata": {
    "pycharm": {
     "name": "#%%\n"
    }
   },
   "outputs": [],
   "source": [
    "import jax\n",
    "import jax.numpy as jnp\n",
    "import numpy as np\n",
    "import signatory\n",
    "import torch\n",
    "\n",
    "from signax.signature import signature, signature_to_logsignature, signature_combine"
   ]
  },
  {
   "cell_type": "code",
   "execution_count": 2,
   "metadata": {
    "pycharm": {
     "name": "#%%\n"
    }
   },
   "outputs": [],
   "source": [
    "np.random.seed(0)\n",
    "\n",
    "n_batch = 100\n",
    "length = 100\n",
    "dim = 4\n",
    "x = np.random.rand(n_batch, length, dim)\n",
    "\n",
    "depth = 3"
   ]
  },
  {
   "cell_type": "code",
   "execution_count": 3,
   "outputs": [],
   "source": [
    "def jax_grad_over_sum(_callable):\n",
    "    _callable = jax.jit(jax.grad(_callable))\n",
    "    def wrap(*args, **kwargs):\n",
    "        def _batch_call(_args, _kwargs):\n",
    "            return jnp.sum(jax.vmap(_callable)(*_args, **_kwargs))\n",
    "\n",
    "        return jax.value_and_grad(_batch_call)(args, kwargs)\n",
    "\n",
    "    return wrap"
   ],
   "metadata": {
    "collapsed": false,
    "pycharm": {
     "name": "#%%\n"
    }
   }
  },
  {
   "cell_type": "code",
   "execution_count": 4,
   "outputs": [
    {
     "name": "stderr",
     "output_type": "stream",
     "text": [
      "WARNING:absl:No GPU/TPU found, falling back to CPU. (Set TF_CPP_MIN_LOG_LEVEL=0 and rerun for more info.)\n"
     ]
    }
   ],
   "source": [
    "@jax_grad_over_sum\n",
    "def signature_loss(path):\n",
    "    sig = signature(path, depth)\n",
    "    return sum(map(jnp.sum, sig))\n",
    "\n",
    "# Compile function\n",
    "_ = signature_loss(x)"
   ],
   "metadata": {
    "collapsed": false,
    "pycharm": {
     "name": "#%%\n"
    }
   }
  },
  {
   "cell_type": "code",
   "execution_count": 5,
   "outputs": [
    {
     "name": "stdout",
     "output_type": "stream",
     "text": [
      "5.55 ms ± 731 µs per loop (mean ± std. dev. of 7 runs, 100 loops each)\n"
     ]
    }
   ],
   "source": [
    "%%timeit\n",
    "value, (grad,) = signature_loss(x)\n",
    "value.block_until_ready()\n",
    "grad.block_until_ready()"
   ],
   "metadata": {
    "collapsed": false,
    "pycharm": {
     "name": "#%%\n"
    }
   }
  },
  {
   "cell_type": "code",
   "execution_count": 6,
   "outputs": [],
   "source": [
    "torch_x = torch.as_tensor(x).requires_grad_(True)"
   ],
   "metadata": {
    "collapsed": false,
    "pycharm": {
     "name": "#%%\n"
    }
   }
  },
  {
   "cell_type": "code",
   "execution_count": 7,
   "outputs": [],
   "source": [
    "def torch_fun(x):\n",
    "    sig = signatory.signature(x, depth)\n",
    "    loss = torch.sum(sig)\n",
    "    loss.backward()\n",
    "    return loss"
   ],
   "metadata": {
    "collapsed": false,
    "pycharm": {
     "name": "#%%\n"
    }
   }
  },
  {
   "cell_type": "code",
   "execution_count": 8,
   "outputs": [
    {
     "name": "stdout",
     "output_type": "stream",
     "text": [
      "4.28 ms ± 293 µs per loop (mean ± std. dev. of 7 runs, 100 loops each)\n"
     ]
    }
   ],
   "source": [
    "%%timeit\n",
    "loss = torch_fun(torch_x)"
   ],
   "metadata": {
    "collapsed": false,
    "pycharm": {
     "name": "#%%\n"
    }
   }
  },
  {
   "cell_type": "code",
   "execution_count": 9,
   "outputs": [
    {
     "name": "stdout",
     "output_type": "stream",
     "text": [
      "[DeviceArray([1., 1., 1.], dtype=float32), DeviceArray([0.5, 0.5, 0.5], dtype=float32), DeviceArray([0.33333337, 0.33333337, 0.33333337, 0.33333337, 0.33333337,\n",
      "             0.33333337, 0.33333337, 0.33333337], dtype=float32)]\n"
     ]
    }
   ],
   "source": [
    "dim = 3\n",
    "\n",
    "input_ = [\n",
    "    jnp.ones((dim,)),\n",
    "    jnp.ones((dim, dim)),\n",
    "    jnp.ones((dim, dim, dim)),\n",
    "]\n",
    "\n",
    "output = signature_to_logsignature(input_)\n",
    "print(output)"
   ],
   "metadata": {
    "collapsed": false,
    "pycharm": {
     "name": "#%%\n"
    }
   }
  },
  {
   "cell_type": "code",
   "execution_count": 10,
   "outputs": [
    {
     "name": "stdout",
     "output_type": "stream",
     "text": [
      "tensor([[1.0000, 1.0000, 1.0000, 0.5000, 0.5000, 0.5000, 0.3333, 0.3333, 0.3333,\n",
      "         0.3333, 0.3333, 0.3333, 0.3333, 0.3333]])\n"
     ]
    }
   ],
   "source": [
    "input_ = torch.ones((1, dim + dim * dim + dim * dim * dim))\n",
    "log_signature = signatory.signature_to_logsignature(\n",
    "    signature=input_, depth=3, channels=dim\n",
    ")\n",
    "print(log_signature)"
   ],
   "metadata": {
    "collapsed": false,
    "pycharm": {
     "name": "#%%\n"
    }
   }
  },
  {
   "cell_type": "code",
   "execution_count": 11,
   "outputs": [],
   "source": [
    "x1 = np.random.rand(n_batch, length, dim)\n",
    "x2 = np.hstack((\n",
    "    x1[:, -1:, :].copy(),\n",
    "    np.random.randn(n_batch, length - 1, dim)\n",
    "))\n",
    "\n",
    "\n",
    "def batch_signature(path):\n",
    "    return jax.vmap(lambda x_in: signature(x_in, depth))(path)\n",
    "\n",
    "\n",
    "sig_x1 = batch_signature(x1)\n",
    "sig_x2 = batch_signature(x2)"
   ],
   "metadata": {
    "collapsed": false,
    "pycharm": {
     "name": "#%%\n"
    }
   }
  },
  {
   "cell_type": "code",
   "execution_count": 12,
   "outputs": [],
   "source": [
    "def combine(signature1, signature2):\n",
    "    return jax.vmap(signature_combine)(signature1, signature2)\n",
    "\n",
    "\n",
    "# Compile function\n",
    "_ = combine(sig_x1, sig_x2)"
   ],
   "metadata": {
    "collapsed": false,
    "pycharm": {
     "name": "#%%\n"
    }
   }
  },
  {
   "cell_type": "code",
   "execution_count": 13,
   "outputs": [
    {
     "name": "stdout",
     "output_type": "stream",
     "text": [
      "305 µs ± 1.99 µs per loop (mean ± std. dev. of 7 runs, 1,000 loops each)\n"
     ]
    }
   ],
   "source": [
    "%%timeit\n",
    "combine(sig_x1, sig_x2)"
   ],
   "metadata": {
    "collapsed": false,
    "pycharm": {
     "name": "#%%\n"
    }
   }
  },
  {
   "cell_type": "code",
   "execution_count": 14,
   "outputs": [],
   "source": [
    "torch_x1 = torch.as_tensor(x1.copy()).requires_grad_(True)\n",
    "torch_x2 = torch.as_tensor(x2.copy()).requires_grad_(True)\n",
    "\n",
    "sig_torch_x1 = signatory.signature(torch_x1, depth)\n",
    "sig_torch_x2 = signatory.signature(torch_x2, depth)\n",
    "\n",
    "sig_torch_x1.retain_grad()\n",
    "sig_torch_x2.retain_grad()"
   ],
   "metadata": {
    "collapsed": false,
    "pycharm": {
     "name": "#%%\n"
    }
   }
  },
  {
   "cell_type": "code",
   "execution_count": 15,
   "outputs": [],
   "source": [
    "def torch_combine(sig1, sig2):\n",
    "    return signatory.signature_combine(sig1, sig2, dim, depth)\n",
    "\n",
    "\n",
    "_ = torch_combine(sig_torch_x1, sig_torch_x2)"
   ],
   "metadata": {
    "collapsed": false,
    "pycharm": {
     "name": "#%%\n"
    }
   }
  },
  {
   "cell_type": "code",
   "execution_count": 16,
   "outputs": [
    {
     "name": "stdout",
     "output_type": "stream",
     "text": [
      "60.6 µs ± 196 ns per loop (mean ± std. dev. of 7 runs, 10,000 loops each)\n"
     ]
    }
   ],
   "source": [
    "%%timeit\n",
    "torch_combine(sig_torch_x1, sig_torch_x2)"
   ],
   "metadata": {
    "collapsed": false,
    "pycharm": {
     "name": "#%%\n"
    }
   }
  }
 ],
 "metadata": {
  "kernelspec": {
   "display_name": "Python 3.9.7 ('base')",
   "language": "python",
   "name": "python3"
  },
  "language_info": {
   "codemirror_mode": {
    "name": "ipython",
    "version": 3
   },
   "file_extension": ".py",
   "mimetype": "text/x-python",
   "name": "python",
   "nbconvert_exporter": "python",
   "pygments_lexer": "ipython3",
   "version": "3.9.7"
  },
  "orig_nbformat": 4,
  "vscode": {
   "interpreter": {
    "hash": "f7d1fba74dfd24f4e28e69f7ae18d3d17d4ecc25efd86b65572743c77fabf4a5"
   }
  }
 },
 "nbformat": 4,
 "nbformat_minor": 2
}