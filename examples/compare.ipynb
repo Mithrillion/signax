{
 "cells": [
  {
   "cell_type": "code",
   "execution_count": null,
   "metadata": {
    "pycharm": {
     "name": "#%%\n",
     "is_executing": true
    }
   },
   "outputs": [],
   "source": [
    "import jax\n",
    "import jax.numpy as jnp\n",
    "import numpy as np\n",
    "import signatory\n",
    "import torch\n",
    "from signax.signature import signature, signature_to_logsignature, signature_combine\n",
    "from signax.module import SignatureTransform"
   ]
  },
  {
   "cell_type": "code",
   "execution_count": null,
   "metadata": {
    "pycharm": {
     "name": "#%%\n",
     "is_executing": true
    }
   },
   "outputs": [],
   "source": [
    "np.random.seed(0)\n",
    "\n",
    "n_batch = 100\n",
    "length = 100\n",
    "dim = 4\n",
    "x = np.random.rand(n_batch, length, dim)\n",
    "\n",
    "depth = 3"
   ]
  },
  {
   "cell_type": "code",
   "execution_count": null,
   "outputs": [],
   "source": [
    "def jax_grad_over_sum(_callable):\n",
    "    _callable = jax.jit(jax.grad(_callable))\n",
    "    def wrap(*args, **kwargs):\n",
    "        def _batch_call(_args, _kwargs):\n",
    "            return jnp.sum(jax.vmap(_callable)(*_args, **_kwargs))\n",
    "\n",
    "        return jax.value_and_grad(_batch_call)(args, kwargs)\n",
    "\n",
    "    return wrap"
   ],
   "metadata": {
    "collapsed": false,
    "pycharm": {
     "name": "#%%\n",
     "is_executing": true
    }
   }
  },
  {
   "cell_type": "code",
   "execution_count": null,
   "outputs": [],
   "source": [
    "@jax_grad_over_sum\n",
    "def signature_loss(path):\n",
    "    sig = signature(path, depth)\n",
    "    return sum(map(jnp.sum, sig))\n",
    "\n",
    "# Compile function\n",
    "_ = signature_loss(x)"
   ],
   "metadata": {
    "collapsed": false,
    "pycharm": {
     "name": "#%%\n",
     "is_executing": true
    }
   }
  },
  {
   "cell_type": "code",
   "execution_count": null,
   "outputs": [],
   "source": [
    "%%timeit\n",
    "value, (grad,) = signature_loss(x)\n",
    "value.block_until_ready()\n",
    "grad.block_until_ready()"
   ],
   "metadata": {
    "collapsed": false,
    "pycharm": {
     "name": "#%%\n",
     "is_executing": true
    }
   }
  },
  {
   "cell_type": "code",
   "execution_count": null,
   "outputs": [],
   "source": [
    "torch_x = torch.as_tensor(x).requires_grad_(True)"
   ],
   "metadata": {
    "collapsed": false,
    "pycharm": {
     "name": "#%%\n",
     "is_executing": true
    }
   }
  },
  {
   "cell_type": "code",
   "execution_count": null,
   "outputs": [],
   "source": [
    "def torch_fun(x):\n",
    "    sig = signatory.signature(x, depth)\n",
    "    loss = torch.sum(sig)\n",
    "    loss.backward()\n",
    "    return loss"
   ],
   "metadata": {
    "collapsed": false,
    "pycharm": {
     "name": "#%%\n",
     "is_executing": true
    }
   }
  },
  {
   "cell_type": "code",
   "execution_count": null,
   "outputs": [],
   "source": [
    "%%timeit\n",
    "loss = torch_fun(torch_x)"
   ],
   "metadata": {
    "collapsed": false,
    "pycharm": {
     "name": "#%%\n",
     "is_executing": true
    }
   }
  },
  {
   "cell_type": "code",
   "execution_count": null,
   "outputs": [],
   "source": [
    "dim = 3\n",
    "\n",
    "input_ = [\n",
    "    jnp.ones((dim,)),\n",
    "    jnp.ones((dim, dim)),\n",
    "    jnp.ones((dim, dim, dim)),\n",
    "]\n",
    "\n",
    "output = signature_to_logsignature(input_)\n",
    "print(output)"
   ],
   "metadata": {
    "collapsed": false,
    "pycharm": {
     "name": "#%%\n",
     "is_executing": true
    }
   }
  },
  {
   "cell_type": "code",
   "execution_count": null,
   "outputs": [],
   "source": [
    "input_ = torch.ones((1, dim + dim * dim + dim * dim * dim))\n",
    "log_signature = signatory.signature_to_logsignature(\n",
    "    signature=input_, depth=3, channels=dim\n",
    ")\n",
    "print(log_signature)"
   ],
   "metadata": {
    "collapsed": false,
    "pycharm": {
     "name": "#%%\n",
     "is_executing": true
    }
   }
  },
  {
   "cell_type": "code",
   "execution_count": null,
   "outputs": [],
   "source": [
    "x1 = np.random.rand(n_batch, length, dim)\n",
    "x2 = np.hstack((\n",
    "    x1[:, -1:, :].copy(),\n",
    "    np.random.randn(n_batch, length - 1, dim)\n",
    "))\n",
    "\n",
    "\n",
    "def batch_signature(path):\n",
    "    return jax.vmap(lambda x_in: signature(x_in, depth))(path)\n",
    "\n",
    "\n",
    "sig_x1 = batch_signature(x1)\n",
    "sig_x2 = batch_signature(x2)"
   ],
   "metadata": {
    "collapsed": false,
    "pycharm": {
     "name": "#%%\n",
     "is_executing": true
    }
   }
  },
  {
   "cell_type": "code",
   "execution_count": null,
   "outputs": [],
   "source": [
    "def combine(signatures):\n",
    "    return jax.vmap(signature_combine)(signatures)\n",
    "\n",
    "\n",
    "# Compile function\n",
    "_ = combine((sig_x1, sig_x2))"
   ],
   "metadata": {
    "collapsed": false,
    "pycharm": {
     "name": "#%%\n",
     "is_executing": true
    }
   }
  },
  {
   "cell_type": "code",
   "execution_count": null,
   "outputs": [],
   "source": [
    "%%timeit\n",
    "combine((sig_x1, sig_x2))"
   ],
   "metadata": {
    "collapsed": false,
    "pycharm": {
     "name": "#%%\n",
     "is_executing": true
    }
   }
  },
  {
   "cell_type": "code",
   "execution_count": null,
   "outputs": [],
   "source": [
    "torch_x1 = torch.as_tensor(x1.copy()).requires_grad_(True)\n",
    "torch_x2 = torch.as_tensor(x2.copy()).requires_grad_(True)\n",
    "\n",
    "sig_torch_x1 = signatory.signature(torch_x1, depth)\n",
    "sig_torch_x2 = signatory.signature(torch_x2, depth)\n",
    "\n",
    "sig_torch_x1.retain_grad()\n",
    "sig_torch_x2.retain_grad()"
   ],
   "metadata": {
    "collapsed": false,
    "pycharm": {
     "name": "#%%\n",
     "is_executing": true
    }
   }
  },
  {
   "cell_type": "code",
   "execution_count": null,
   "outputs": [],
   "source": [
    "def torch_combine(sig1, sig2):\n",
    "    return signatory.signature_combine(sig1, sig2, dim, depth)\n",
    "\n",
    "\n",
    "_ = torch_combine(sig_torch_x1, sig_torch_x2)"
   ],
   "metadata": {
    "collapsed": false,
    "pycharm": {
     "name": "#%%\n",
     "is_executing": true
    }
   }
  },
  {
   "cell_type": "code",
   "execution_count": null,
   "outputs": [],
   "source": [
    "%%timeit\n",
    "torch_combine(sig_torch_x1, sig_torch_x2)"
   ],
   "metadata": {
    "collapsed": false,
    "pycharm": {
     "name": "#%%\n",
     "is_executing": true
    }
   }
  },
  {
   "cell_type": "code",
   "execution_count": null,
   "outputs": [],
   "source": [],
   "metadata": {
    "collapsed": false,
    "pycharm": {
     "name": "#%%\n",
     "is_executing": true
    }
   }
  }
 ],
 "metadata": {
  "kernelspec": {
   "display_name": "Python 3.9.7 ('base')",
   "language": "python",
   "name": "python3"
  },
  "language_info": {
   "codemirror_mode": {
    "name": "ipython",
    "version": 3
   },
   "file_extension": ".py",
   "mimetype": "text/x-python",
   "name": "python",
   "nbconvert_exporter": "python",
   "pygments_lexer": "ipython3",
   "version": "3.9.7"
  },
  "orig_nbformat": 4,
  "vscode": {
   "interpreter": {
    "hash": "f7d1fba74dfd24f4e28e69f7ae18d3d17d4ecc25efd86b65572743c77fabf4a5"
   }
  }
 },
 "nbformat": 4,
 "nbformat_minor": 2
}