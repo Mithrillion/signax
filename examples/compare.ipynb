{
 "cells": [
  {
   "cell_type": "code",
   "execution_count": 10,
   "metadata": {},
   "outputs": [],
   "source": [
    "import jax\n",
    "import jax.numpy as jnp\n",
    "import numpy as np\n",
    "import signatory\n",
    "import torch\n",
    "from signax.signature import signature, signature_to_logsignature"
   ]
  },
  {
   "cell_type": "code",
   "execution_count": 3,
   "metadata": {},
   "outputs": [],
   "source": [
    "np.random.seed(0)\n",
    "\n",
    "n_batch = 100\n",
    "length = 100\n",
    "dim = 10\n",
    "x = np.random.rand(n_batch, n_batch, dim)\n",
    "\n",
    "depth = 3"
   ]
  },
  {
   "cell_type": "code",
   "execution_count": 6,
   "metadata": {},
   "outputs": [],
   "source": [
    "def func(x):\n",
    "    def _fn(x):\n",
    "        sig = signature(x, depth)\n",
    "        return sum(map(jnp.sum, sig))\n",
    "\n",
    "    def _fn_batch(batch_x):\n",
    "        return jnp.sum(jax.vmap(_fn)(batch_x))\n",
    "\n",
    "    value, grad = jax.value_and_grad(_fn_batch)(x)\n",
    "    return value, grad"
   ]
  },
  {
   "cell_type": "code",
   "execution_count": 8,
   "metadata": {},
   "outputs": [
    {
     "name": "stdout",
     "output_type": "stream",
     "text": [
      "25.5 ms ± 2.6 ms per loop (mean ± std. dev. of 7 runs, 10 loops each)\n"
     ]
    }
   ],
   "source": [
    "%%timeit\n",
    "value, grad = func(x)\n",
    "value.block_until_ready()\n",
    "grad.block_until_ready()"
   ]
  },
  {
   "cell_type": "code",
   "execution_count": 11,
   "metadata": {},
   "outputs": [],
   "source": [
    "torch_x = torch.as_tensor(x).requires_grad_(True)"
   ]
  },
  {
   "cell_type": "code",
   "execution_count": 12,
   "metadata": {},
   "outputs": [],
   "source": [
    "def torch_fun(x):\n",
    "    sig = signatory.signature(x, depth)\n",
    "    loss = torch.sum(sig)\n",
    "    loss.backward()\n",
    "    return loss"
   ]
  },
  {
   "cell_type": "code",
   "execution_count": 13,
   "metadata": {},
   "outputs": [
    {
     "name": "stdout",
     "output_type": "stream",
     "text": [
      "74.5 ms ± 26.3 ms per loop (mean ± std. dev. of 7 runs, 1 loop each)\n"
     ]
    }
   ],
   "source": [
    "%%timeit\n",
    "loss = torch_fun(torch_x)"
   ]
  },
  {
   "cell_type": "code",
   "execution_count": 14,
   "metadata": {},
   "outputs": [
    {
     "name": "stdout",
     "output_type": "stream",
     "text": [
      "[DeviceArray([1., 1., 1.], dtype=float32), DeviceArray([0.5, 0.5, 0.5], dtype=float32), DeviceArray([0.33333337, 0.33333337, 0.33333337, 0.33333337, 0.33333337,\n",
      "             0.33333337, 0.33333337, 0.33333337], dtype=float32)]\n"
     ]
    }
   ],
   "source": [
    "dim = 3\n",
    "\n",
    "input = [\n",
    "    jnp.ones((dim,)),\n",
    "    jnp.ones((dim, dim)),\n",
    "    jnp.ones((dim, dim, dim)),\n",
    "]\n",
    "\n",
    "output = signature_to_logsignature(input)\n",
    "print(output)"
   ]
  },
  {
   "cell_type": "code",
   "execution_count": 15,
   "metadata": {},
   "outputs": [
    {
     "name": "stdout",
     "output_type": "stream",
     "text": [
      "tensor([[1.0000, 1.0000, 1.0000, 0.5000, 0.5000, 0.5000, 0.3333, 0.3333, 0.3333,\n",
      "         0.3333, 0.3333, 0.3333, 0.3333, 0.3333]])\n"
     ]
    }
   ],
   "source": [
    "input = torch.ones((1, dim + dim * dim + dim * dim * dim))\n",
    "log_signature = signatory.signature_to_logsignature(\n",
    "    signature=input, depth=3, channels=dim\n",
    ")\n",
    "print(log_signature)"
   ]
  },
  {
   "cell_type": "code",
   "execution_count": null,
   "metadata": {},
   "outputs": [],
   "source": []
  }
 ],
 "metadata": {
  "kernelspec": {
   "display_name": "Python 3.9.7 ('base')",
   "language": "python",
   "name": "python3"
  },
  "language_info": {
   "codemirror_mode": {
    "name": "ipython",
    "version": 3
   },
   "file_extension": ".py",
   "mimetype": "text/x-python",
   "name": "python",
   "nbconvert_exporter": "python",
   "pygments_lexer": "ipython3",
   "version": "3.9.7"
  },
  "orig_nbformat": 4,
  "vscode": {
   "interpreter": {
    "hash": "f7d1fba74dfd24f4e28e69f7ae18d3d17d4ecc25efd86b65572743c77fabf4a5"
   }
  }
 },
 "nbformat": 4,
 "nbformat_minor": 2
}
