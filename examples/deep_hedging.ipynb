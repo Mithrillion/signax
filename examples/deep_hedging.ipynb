{
 "cells": [
  {
   "cell_type": "markdown",
   "metadata": {},
   "source": [
    "## Deep Hedging with Signature Transformer\n",
    "\n",
    "Deep hedging is a new approach in hedging, moving away from traditional methods (using Greeks or statistical hedging). See more in [this link](http://www.deephedging.com/).\n",
    "\n",
    "The following script demonstrates a result from the paper [\"Sigformer: Signature Transformers for Deep Hedging\"]() that puts attentions over signature terms. \n",
    "\n",
    "Overview of the architecture can be illustrated in this figure\n",
    "\n",
    "![SigFormer](https://github.com/anh-tong/signax/blob/main/assets/sigformer.jpg)\n",
    "\n",
    "Note that this example is quite advanced and technical. For detailed descriptions, please see the paper."
   ]
  },
  {
   "cell_type": "code",
   "execution_count": 1,
   "metadata": {},
   "outputs": [],
   "source": [
    "from functools import partial\n",
    "\n",
    "from typing import Dict, Callable, Tuple, List\n",
    "import equinox as eqx\n",
    "from jaxtyping import Array, Float\n",
    "import jax.random as jrandom\n",
    "import jax.numpy as jnp\n",
    "import jax\n",
    "import numpy as np\n",
    "\n",
    "# backbone signature transform\n",
    "from sigformer import SigFormer, Config\n",
    "\n",
    "from rbergomi import BaseDerivative, RoughBergomiStock, EuropeanOption\n",
    "\n",
    "from tqdm import tqdm\n",
    "import optax\n",
    "\n",
    "import matplotlib.pyplot as plt\n",
    "import seaborn as sns\n",
    "import pandas as pd"
   ]
  },
  {
   "cell_type": "code",
   "execution_count": 2,
   "metadata": {},
   "outputs": [],
   "source": [
    "def pl(\n",
    "    spot: Float[Array, \"n_steps dim\"],\n",
    "    unit: Float[Array, \"n_steps dim\"],\n",
    "    payoff: Float = None,\n",
    "):\n",
    "    \"\"\"\n",
    "    Use `jax.vmap` when working with with multiple paths\n",
    "    \"\"\"\n",
    "    assert spot.shape == unit.shape\n",
    "\n",
    "    output = unit[:-1] * jnp.diff(spot, axis=0)\n",
    "    output = jnp.sum(output)\n",
    "\n",
    "    if payoff is not None:\n",
    "        output = output - payoff\n",
    "\n",
    "    return output"
   ]
  },
  {
   "cell_type": "markdown",
   "metadata": {},
   "source": [
    "Let us define a base class for deep hedging"
   ]
  },
  {
   "cell_type": "code",
   "execution_count": 3,
   "metadata": {},
   "outputs": [],
   "source": [
    "class BaseHedger(eqx.Module):\n",
    "    derivative: BaseDerivative\n",
    "\n",
    "    def compute_hedge(\n",
    "        self,\n",
    "        simulated_data: Dict[str, Float[Array, \"n_paths n_steps\"]],\n",
    "        *,\n",
    "        key: jrandom.PRNGKey,\n",
    "    ) -> Float[Array, \"n_paths dim n_steps\"]:\n",
    "        \"\"\"Given `simulated_data`, this returns how many units should trade\"\"\"\n",
    "        raise NotImplementedError\n",
    "\n",
    "    def get_prices(\n",
    "        self, simulated_data: Dict[str, Float[Array, \"n_paths n_steps\"]]\n",
    "    ) -> Float[Array, \"n_paths dim n_steps\"]:\n",
    "        \"\"\"Get prices of tradable assets\"\"\"\n",
    "        raise NotImplementedError\n",
    "\n",
    "    def compute_pnl(\n",
    "        self,\n",
    "        rng_key: jrandom.PRNGKey,\n",
    "        n_paths: int,\n",
    "        simulated_data: Dict[str, Float[Array, \"n_paths n_steps\"]] = None,\n",
    "        init_state=None,\n",
    "        return_portfolio_and_payoff=False,\n",
    "    ):\n",
    "        \"\"\"Compute Profit-N-Loss\"\"\"\n",
    "\n",
    "        if rng_key is None:\n",
    "            hedge_key = None\n",
    "        else:\n",
    "            rng_key, hedge_key = jrandom.split(rng_key)\n",
    "        if simulated_data is None:\n",
    "            rng_key = jrandom.split(rng_key, n_paths)\n",
    "            simulated_data = jax.vmap(\n",
    "                partial(self.derivative.simulate, init_state=init_state)\n",
    "            )(rng_key)\n",
    "        prices = self.get_prices(simulated_data)\n",
    "        unit = self.compute_hedge(simulated_data, key=hedge_key)\n",
    "        payoff = self.derivative.payoff(simulated_data[\"spot\"])\n",
    "\n",
    "        if return_portfolio_and_payoff:\n",
    "            portfolio = jax.vmap(pl)(spot=prices, unit=unit)\n",
    "            return portfolio, payoff\n",
    "        else:\n",
    "            return jax.vmap(pl)(spot=prices, unit=unit, payoff=payoff)"
   ]
  },
  {
   "cell_type": "code",
   "execution_count": 4,
   "metadata": {},
   "outputs": [],
   "source": [
    "class QuadraticLoss:\n",
    "    p0: float\n",
    "\n",
    "    def __init__(self, p0):\n",
    "        self.p0 = p0\n",
    "\n",
    "    def __call__(self, input, target):\n",
    "        return jnp.mean(jnp.square(input - target + self.p0))"
   ]
  },
  {
   "cell_type": "markdown",
   "metadata": {},
   "source": [
    "This is the main class for deep hedging with SigFormer backbone"
   ]
  },
  {
   "cell_type": "code",
   "execution_count": 5,
   "metadata": {},
   "outputs": [],
   "source": [
    "class SigHedger(BaseHedger):\n",
    "    model: eqx.Module\n",
    "    config: Config = eqx.static_field()\n",
    "    criterion: QuadraticLoss = eqx.static_field()\n",
    "    derivative: BaseDerivative = eqx.static_field()\n",
    "\n",
    "    n_inputs: int = eqx.static_field()\n",
    "    n_outputs: int = eqx.static_field()\n",
    "\n",
    "    def __init__(\n",
    "        self,\n",
    "        derivative,\n",
    "        criterion,\n",
    "        signature_depth=3,\n",
    "        model_dim=2,\n",
    "        n_attn_heads=1,\n",
    "        n_attn_blocks=2,\n",
    "        d_ff=12,\n",
    "        dropout=0.1,\n",
    "        *,\n",
    "        key: jrandom.PRNGKey,\n",
    "    ) -> None:\n",
    "        self.derivative = derivative\n",
    "        self.criterion = criterion\n",
    "        # inputs consist of log-moneyness and volatility\n",
    "        self.n_inputs = 2\n",
    "        # output the hedge for spot and forward variance\n",
    "        self.n_outputs = 2\n",
    "        self.config = Config(\n",
    "            in_dim=self.n_inputs,\n",
    "            out_dim=self.n_outputs,\n",
    "            dim=model_dim,\n",
    "            num_heads=n_attn_heads,\n",
    "            d_ff=d_ff,\n",
    "            dropout=dropout,\n",
    "            n_attn_blocks=n_attn_blocks,\n",
    "            order=signature_depth,\n",
    "        )\n",
    "        self.model = self.initialize_model(key=key)\n",
    "\n",
    "    def initialize_model(self, key: jrandom.PRNGKey) -> Callable[[Array], Array]:\n",
    "        model = SigFormer(config=self.config, key=key)\n",
    "        return model\n",
    "\n",
    "    def compute_hedge(\n",
    "        self,\n",
    "        simulated_data: Dict[str, Array],\n",
    "        *,\n",
    "        key: jrandom.PRNGKey = None,\n",
    "    ):\n",
    "        def _compute_hedge(single_path):\n",
    "            # inputs consist of log-moneyness and volatility\n",
    "            logmoneyness = single_path[\"spot\"] / self.derivative.strike\n",
    "            volatility = self.derivative.underlier.volatility(**single_path)\n",
    "            # now gather log-moneyness and volatility\n",
    "            input = jnp.stack([logmoneyness, volatility], axis=-1)\n",
    "            output = self.model(input, key=key)\n",
    "\n",
    "            return output\n",
    "\n",
    "        return jax.vmap(_compute_hedge)(simulated_data)\n",
    "\n",
    "    def __call__(\n",
    "        self,\n",
    "        input: Float[Array, \"n_steps n_features\"],\n",
    "    ) -> Float[Array, \"n_steps n_hedges\"]:\n",
    "        return self.model(input)\n",
    "\n",
    "    def get_prices(\n",
    "        self, simulated_data: Dict[str, Float[Array, \"n_paths n_steps\"]]\n",
    "    ) -> Float[Array, \"n_path n_steps dim\"]:\n",
    "        \"\"\"Get the prices of tradable assets\"\"\"\n",
    "        spot = simulated_data[\"spot\"]\n",
    "        forward_variance = simulated_data[\"forward_variance\"]\n",
    "        return jnp.stack([spot, forward_variance], axis=-1)\n",
    "\n",
    "    def compute_loss(\n",
    "        self,\n",
    "        init_state,\n",
    "        n_paths=1000,\n",
    "        n_times=1,\n",
    "        p0=None,\n",
    "        *,\n",
    "        rng_key: jrandom.PRNGKey,\n",
    "    ) -> Float:\n",
    "        def _portfolio_and_payoff(key):\n",
    "            return self.compute_pnl(\n",
    "                rng_key=key,\n",
    "                n_paths=n_paths,\n",
    "                init_state=init_state,\n",
    "                return_portfolio_and_payoff=True,\n",
    "            )\n",
    "\n",
    "        def _compute_loss(key):\n",
    "            portfolio, payoff = _portfolio_and_payoff(key)\n",
    "            payoff = payoff if p0 is None else p0\n",
    "            return self.criterion(portfolio, payoff)\n",
    "\n",
    "        if n_times == 1:\n",
    "            return _compute_loss(rng_key)\n",
    "        else:\n",
    "            batch_compute_loss = jax.vmap(_compute_loss)\n",
    "            rng_key = jrandom.split(rng_key, n_times)\n",
    "            return jnp.mean(batch_compute_loss(rng_key), axis=0)"
   ]
  },
  {
   "cell_type": "markdown",
   "metadata": {},
   "source": [
    "The following class computes the perfect hedge for rough Bergomi models. The implementation is based on [Deep Hedging under Rough Volatility](https://arxiv.org/abs/2102.01962)"
   ]
  },
  {
   "cell_type": "code",
   "execution_count": 6,
   "metadata": {},
   "outputs": [],
   "source": [
    "class RBergomiDeltaHedger(BaseHedger):\n",
    "    underlier: RoughBergomiStock\n",
    "    n_paths: int\n",
    "    batch_size: int = 1000\n",
    "\n",
    "    def __init__(self, derivative: BaseDerivative, n_paths=1000):\n",
    "        self.derivative = derivative\n",
    "        self.underlier = derivative.underlier\n",
    "        assert isinstance(self.underlier, RoughBergomiStock)\n",
    "        self.n_paths = n_paths\n",
    "\n",
    "    def compute_hedge(\n",
    "        self,\n",
    "        simulated_data: Dict[str, Float[Array, \"n_paths n_steps\"]],\n",
    "        *,\n",
    "        key: jrandom.PRNGKey,\n",
    "    ) -> Float[Array, \"n_paths n_steps dim\"]:\n",
    "        spot = simulated_data[\"spot\"]\n",
    "        variance = simulated_data[\"variance\"]\n",
    "        forward_variance = simulated_data[\"forward_variance\"]\n",
    "\n",
    "        forward_offset_steps = self.underlier.forward_offset_steps\n",
    "\n",
    "        def compute_delta_for_a_point(\n",
    "            spot, variance, forward_variance, remaining_steps_spot, key\n",
    "        ):\n",
    "            return self._delta(\n",
    "                spot=spot,\n",
    "                variance=variance,\n",
    "                forward_variance=forward_variance,\n",
    "                remaining_steps_spot=remaining_steps_spot,\n",
    "                remaining_steps_variance=remaining_steps_spot + forward_offset_steps,\n",
    "                n_paths=self.n_paths,\n",
    "                rng_key=key,\n",
    "            )\n",
    "\n",
    "        @partial(jax.jit, static_argnames=\"remaining_steps_spot\")\n",
    "        def compute_delta_for_path(\n",
    "            spot, variance, forward_variance, remaining_steps_spot, key\n",
    "        ):\n",
    "            n_paths = spot.shape[0]\n",
    "            key = jrandom.split(key, n_paths)\n",
    "            fn = partial(\n",
    "                compute_delta_for_a_point, remaining_steps_spot=remaining_steps_spot\n",
    "            )\n",
    "            return jax.vmap(fn)(\n",
    "                spot=spot, variance=variance, forward_variance=forward_variance, key=key\n",
    "            )\n",
    "\n",
    "        delta_prices, delta_variances = [], []\n",
    "        for i in tqdm(range(spot.shape[-1] - 1)):\n",
    "            delta_price, delta_variance = compute_delta_for_path(\n",
    "                spot=spot[..., i],\n",
    "                variance=variance[..., i],\n",
    "                forward_variance=forward_variance[..., i:],\n",
    "                remaining_steps_spot=spot.shape[-1] - i,\n",
    "                key=jrandom.fold_in(key, i),\n",
    "            )\n",
    "\n",
    "            delta_prices.append(delta_price)\n",
    "            delta_variances.append(delta_variance)\n",
    "\n",
    "        delta_prices = jnp.stack(delta_prices, axis=-1)\n",
    "        delta_variances = jnp.stack(delta_variances, axis=-1)\n",
    "\n",
    "        delta = jnp.stack([delta_prices, delta_variances], axis=-1)\n",
    "        delta = jnp.pad(delta, ((0, 0), (0, 1), (0, 0)), constant_values=0.0)\n",
    "\n",
    "        return delta\n",
    "\n",
    "    def _delta(\n",
    "        self,\n",
    "        spot: Float,\n",
    "        variance: Float,\n",
    "        forward_variance: Float[Array, \" remaining_steps\"],\n",
    "        remaining_steps_spot: int,\n",
    "        remaining_steps_variance: int,\n",
    "        n_paths: int,\n",
    "        *,\n",
    "        rng_key: jrandom.PRNGKey,\n",
    "    ) -> Tuple[Float, Float]:\n",
    "        \"\"\"\n",
    "        This follows Sect. 3.2 of \"Deep hedging under Rough Volatity\" paper.\n",
    "\n",
    "        However, the most detailed description is in\n",
    "        \"A Martingale Approach for Fractional Brownian Motions and Related Path Dependent PDEs\"\n",
    "\n",
    "        \"\"\"\n",
    "        hurst = self.underlier.hurst\n",
    "\n",
    "        # `a` is the directional for Gateaux derivative\n",
    "        a = remaining_steps_variance - jnp.arange(0, remaining_steps_spot)\n",
    "        a = a * self.underlier.dt\n",
    "        a = a ** (hurst - 0.5)\n",
    "\n",
    "        # obtain \\\\Theta_t back from `forward_variance`\n",
    "        T_forward = (\n",
    "            self.derivative.n_steps + self.underlier.forward_offset_steps\n",
    "        ) * self.underlier.dt\n",
    "        t = self.derivative.maturity - remaining_steps_spot * self.underlier.dt\n",
    "        term = (T_forward - t) ** (2 * hurst) - T_forward ** (2 * hurst)\n",
    "        theta = (\n",
    "            jnp.log(forward_variance / variance) - 0.5 * self.underlier.eta**2 * term\n",
    "        )\n",
    "\n",
    "        def _compute_payoff(s0, eps, key):\n",
    "            theta_eps = eps * a + theta\n",
    "            output = self.underlier.simulate(\n",
    "                rng_key=key,\n",
    "                n_steps=remaining_steps_spot,\n",
    "                init_state=(s0, variance, theta_eps),\n",
    "            )\n",
    "            spot = output[\"spot\"]\n",
    "            # compute payoff\n",
    "            payoff = self.derivative.payoff(spot=spot)\n",
    "\n",
    "            return payoff\n",
    "\n",
    "        def _fun(s0, eps, key):\n",
    "            \"\"\"return mean of payoff\"\"\"\n",
    "            key = jrandom.split(key, n_paths)\n",
    "            payoff = jax.vmap(lambda k: _compute_payoff(s0, eps, k))(key)\n",
    "            return jnp.mean(payoff)\n",
    "\n",
    "        # compute two derivatives like in Eq. 3.7\n",
    "        # note that we approximate Gateaux derivatives by sending \\\\epsilon to 0\n",
    "        # also, we use auto-diff instead of finite diference\n",
    "        grad = jax.grad(_fun, argnums=(0, 1))(spot, jnp.asarray(0.0), key=rng_key)\n",
    "        delta_price, directional_grad = grad\n",
    "\n",
    "        # this is the second term in Eq. 3.7\n",
    "        time_to_maturity = remaining_steps_variance * self.underlier.dt\n",
    "        delta_variance = (\n",
    "            time_to_maturity ** (-self.underlier.hurst + 0.5)\n",
    "            * directional_grad\n",
    "            / forward_variance[0]\n",
    "        )\n",
    "\n",
    "        return delta_price, delta_variance\n",
    "\n",
    "    def get_prices(self, simulated_data: Dict[str, Array]) -> Array:\n",
    "        spot = simulated_data[\"spot\"]\n",
    "        forward_variance = simulated_data[\"forward_variance\"]\n",
    "        return jnp.stack([spot, forward_variance], axis=-1)"
   ]
  },
  {
   "cell_type": "markdown",
   "metadata": {},
   "source": [
    "### Set up parameters\n"
   ]
  },
  {
   "cell_type": "code",
   "execution_count": 7,
   "metadata": {},
   "outputs": [],
   "source": [
    "# rough Bergomi price model\n",
    "hurst = 0.1\n",
    "rho = -0.7\n",
    "eta = 1.9\n",
    "xi = 0.235**2\n",
    "cost = 0.0\n",
    "dt = 1.0 / 356\n",
    "forward_offset = 15.0 / 356\n",
    "\n",
    "# derivative\n",
    "T = 30.0 / 356  # maturity\n",
    "S0 = 100.0  # initial price\n",
    "K = 100.0  # strike\n",
    "\n",
    "# SigHedger\n",
    "model_dim = 3\n",
    "n_attn_heads = 12\n",
    "n_attn_blocks = 5\n",
    "\n",
    "# training\n",
    "n_train_paths = 1000\n",
    "n_valid_paths = 1000\n",
    "n_epochs = 5000\n",
    "lr = 1e-4\n",
    "\n",
    "# testing\n",
    "n_test_paths = 5_000\n",
    "\n",
    "# a fixed random seed\n",
    "seed = 123"
   ]
  },
  {
   "cell_type": "code",
   "execution_count": 8,
   "metadata": {},
   "outputs": [],
   "source": [
    "# JAX-based PRNG random\n",
    "key = jrandom.PRNGKey(seed)\n",
    "model_key, train_key, p0_key, test_key = jrandom.split(key, 4)"
   ]
  },
  {
   "cell_type": "markdown",
   "metadata": {},
   "source": [
    "We consider the underlying stock as rough Bergomi and the derivative as European option"
   ]
  },
  {
   "cell_type": "code",
   "execution_count": 9,
   "metadata": {},
   "outputs": [],
   "source": [
    "stock = RoughBergomiStock(\n",
    "    hurst=hurst,\n",
    "    rho=rho,\n",
    "    xi=xi,\n",
    "    cost=cost,\n",
    "    dt=dt,\n",
    "    forward_offset=forward_offset,\n",
    ")\n",
    "init_state = (S0, stock.xi, None)\n",
    "\n",
    "derivative = EuropeanOption(\n",
    "    underlier=stock,\n",
    "    call=True,\n",
    "    strike=K,\n",
    "    maturity=T,\n",
    ")"
   ]
  },
  {
   "cell_type": "markdown",
   "metadata": {},
   "source": [
    "### Perfect hedge\n",
    "\n",
    "We compute the perfect hedge given the above implementation"
   ]
  },
  {
   "cell_type": "code",
   "execution_count": 10,
   "metadata": {},
   "outputs": [],
   "source": [
    "delta_hedger = RBergomiDeltaHedger(derivative=derivative)"
   ]
  },
  {
   "cell_type": "code",
   "execution_count": 11,
   "metadata": {},
   "outputs": [
    {
     "name": "stderr",
     "output_type": "stream",
     "text": [
      "100%|██████████| 29/29 [00:56<00:00,  1.96s/it]\n"
     ]
    }
   ],
   "source": [
    "delta_pl = delta_hedger.compute_pnl(\n",
    "    rng_key=test_key,\n",
    "    n_paths=n_test_paths,\n",
    "    init_state=init_state,\n",
    ")"
   ]
  },
  {
   "cell_type": "code",
   "execution_count": 12,
   "metadata": {},
   "outputs": [
    {
     "data": {
      "text/plain": [
       "<BarContainer object of 50 artists>"
      ]
     },
     "execution_count": 12,
     "metadata": {},
     "output_type": "execute_result"
    },
    {
     "data": {
      "image/png": "[encoded data removed]",
      "text/plain": [
       "<Figure size 1000x500 with 1 Axes>"
      ]
     },
     "metadata": {},
     "output_type": "display_data"
    }
   ],
   "source": [
    "hist, bins = np.histogram(delta_pl, bins=50, density=False)\n",
    "plt.figure(figsize=(10, 5))\n",
    "plt.bar(bins[:-1], hist, width=(bins[1] - bins[0]) * 0.8)"
   ]
  },
  {
   "cell_type": "markdown",
   "metadata": {},
   "source": [
    "### Deep hedge with SigFormer\n",
    "\n",
    "Now, we use Sigformer as the main backbone for the deep hedge model"
   ]
  },
  {
   "cell_type": "code",
   "execution_count": 13,
   "metadata": {},
   "outputs": [
    {
     "name": "stdout",
     "output_type": "stream",
     "text": [
      "p0=2.44\n"
     ]
    }
   ],
   "source": [
    "# obtain p0 from expectation of payoff\n",
    "payoff_fn = lambda key: derivative.payoff(rng_key=key, init_state=init_state)\n",
    "payoff = jax.vmap(payoff_fn)(jrandom.split(p0_key, n_test_paths))\n",
    "p0 = jnp.mean(payoff)\n",
    "print(f\"p0={p0.item():.2f}\")"
   ]
  },
  {
   "cell_type": "code",
   "execution_count": 14,
   "metadata": {},
   "outputs": [],
   "source": [
    "criterion = QuadraticLoss(p0=p0)\n",
    "\n",
    "model = SigHedger(\n",
    "    derivative=derivative,\n",
    "    criterion=criterion,\n",
    "    key=model_key,\n",
    ")"
   ]
  },
  {
   "cell_type": "code",
   "execution_count": 15,
   "metadata": {},
   "outputs": [],
   "source": [
    "optimizer = optax.adam(learning_rate=lr)\n",
    "opt_state = optimizer.init(eqx.filter(model, eqx.is_array))"
   ]
  },
  {
   "cell_type": "markdown",
   "metadata": {},
   "source": [
    "The standard equinox training step can be implemented as"
   ]
  },
  {
   "cell_type": "code",
   "execution_count": 16,
   "metadata": {},
   "outputs": [],
   "source": [
    "@eqx.filter_value_and_grad\n",
    "def compute_loss(model: SigHedger, n_simulate_paths, rng_key):\n",
    "    return model.compute_loss(\n",
    "        init_state=init_state,\n",
    "        n_paths=n_simulate_paths,\n",
    "        rng_key=rng_key,\n",
    "    )"
   ]
  },
  {
   "cell_type": "code",
   "execution_count": 17,
   "metadata": {},
   "outputs": [],
   "source": [
    "@eqx.filter_jit\n",
    "def make_step(model: SigHedger, opt_state, n_simulate_paths, rng_key):\n",
    "    loss_value, grads = compute_loss(model, n_simulate_paths, rng_key)\n",
    "    updates, opt_state = optimizer.update(grads, opt_state, model)\n",
    "    model = eqx.apply_updates(model, updates)\n",
    "    return model, opt_state, loss_value"
   ]
  },
  {
   "cell_type": "markdown",
   "metadata": {},
   "source": [
    "Now we're ready for the training part"
   ]
  },
  {
   "cell_type": "code",
   "execution_count": 18,
   "metadata": {},
   "outputs": [
    {
     "name": "stderr",
     "output_type": "stream",
     "text": [
      "Train:   0%|          | 0/5000 [00:00<?, ?it/s]"
     ]
    },
    {
     "name": "stderr",
     "output_type": "stream",
     "text": [
      "Train: 100%|██████████| 5000/5000 [01:29<00:00, 56.07it/s]\n"
     ]
    }
   ],
   "source": [
    "progress = tqdm(range(n_epochs), desc=\"Train\")\n",
    "for i in progress:\n",
    "    model, opt_state, loss_value = make_step(\n",
    "        model,\n",
    "        opt_state,\n",
    "        n_simulate_paths=n_train_paths,\n",
    "        rng_key=jrandom.fold_in(train_key, i),\n",
    "    )"
   ]
  },
  {
   "cell_type": "markdown",
   "metadata": {},
   "source": [
    "The profit-and-loss for Sigformer is computed as"
   ]
  },
  {
   "cell_type": "code",
   "execution_count": 19,
   "metadata": {},
   "outputs": [],
   "source": [
    "eval_model = eqx.tree_inference(model, True)\n",
    "sig_pl = eval_model.compute_pnl(\n",
    "    rng_key=test_key, n_paths=n_test_paths, init_state=init_state\n",
    ")"
   ]
  },
  {
   "cell_type": "markdown",
   "metadata": {},
   "source": [
    "A utility function to compare between two methods"
   ]
  },
  {
   "cell_type": "code",
   "execution_count": 20,
   "metadata": {},
   "outputs": [],
   "source": [
    "def plot_histogram(arrs, names, bins=30, stat=\"probability\", **fig_kwargs):\n",
    "    dfs = [\n",
    "        pd.DataFrame.from_dict({\"PnL\": value, \"model\": name})\n",
    "        for value, name in zip(arrs, names)\n",
    "    ]\n",
    "    df = pd.concat(axis=0, ignore_index=True, objs=dfs)\n",
    "\n",
    "    fig, ax = plt.subplots(**fig_kwargs)\n",
    "    sns.histplot(\n",
    "        data=df,\n",
    "        x=\"PnL\",\n",
    "        hue=\"model\",\n",
    "        ax=ax,\n",
    "        multiple=\"dodge\",\n",
    "        stat=stat,\n",
    "        bins=bins,\n",
    "    )\n",
    "\n",
    "    return fig"
   ]
  },
  {
   "cell_type": "code",
   "execution_count": 21,
   "metadata": {},
   "outputs": [
    {
     "data": {
      "image/png": "[encoded data removed]",
      "text/plain": [
       "<Figure size 640x480 with 1 Axes>"
      ]
     },
     "metadata": {},
     "output_type": "display_data"
    }
   ],
   "source": [
    "fig = plot_histogram([sig_pl, delta_pl], [\"Sig Hedger\", \"Delta Hedge\"], bins=50)"
   ]
  },
  {
   "cell_type": "markdown",
   "metadata": {},
   "source": [
    "We can see deep hedging with SigFormer can give similar PnL performance compared to perfect delta hedging"
   ]
  },
  {
   "cell_type": "code",
   "execution_count": null,
   "metadata": {},
   "outputs": [],
   "source": []
  }
 ],
 "metadata": {
  "kernelspec": {
   "display_name": "base",
   "language": "python",
   "name": "python3"
  },
  "language_info": {
   "codemirror_mode": {
    "name": "ipython",
    "version": 3
   },
   "file_extension": ".py",
   "mimetype": "text/x-python",
   "name": "python",
   "nbconvert_exporter": "python",
   "pygments_lexer": "ipython3",
   "version": "3.9.7"
  },
  "orig_nbformat": 4
 },
 "nbformat": 4,
 "nbformat_minor": 2
}
